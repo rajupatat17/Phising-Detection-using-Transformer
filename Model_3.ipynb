{
 "cells": [
  {
   "cell_type": "code",
   "execution_count": 1,
   "id": "9a81742c",
   "metadata": {},
   "outputs": [],
   "source": [
    "import pandas as pd\n",
    "import numpy as np\n",
    "import seaborn as sns\n",
    "import matplotlib.pyplot as plt\n",
    "import os\n",
    "from nltk import word_tokenize\n",
    "import string\n",
    "import re\n",
    "\n",
    "import warnings\n",
    "warnings.filterwarnings(\"ignore\")"
   ]
  },
  {
   "cell_type": "code",
   "execution_count": 2,
   "id": "4693aa37",
   "metadata": {},
   "outputs": [
    {
     "data": {
      "text/html": [
       "<div>\n",
       "<style scoped>\n",
       "    .dataframe tbody tr th:only-of-type {\n",
       "        vertical-align: middle;\n",
       "    }\n",
       "\n",
       "    .dataframe tbody tr th {\n",
       "        vertical-align: top;\n",
       "    }\n",
       "\n",
       "    .dataframe thead th {\n",
       "        text-align: right;\n",
       "    }\n",
       "</style>\n",
       "<table border=\"1\" class=\"dataframe\">\n",
       "  <thead>\n",
       "    <tr style=\"text-align: right;\">\n",
       "      <th></th>\n",
       "      <th>Feature</th>\n",
       "      <th>Boolean</th>\n",
       "    </tr>\n",
       "  </thead>\n",
       "  <tbody>\n",
       "    <tr>\n",
       "      <th>19242</th>\n",
       "      <td>&lt;=tbody&gt; = What do we dread more than the end ...</td>\n",
       "      <td>0.0</td>\n",
       "    </tr>\n",
       "    <tr>\n",
       "      <th>19047</th>\n",
       "      <td>&lt;http://panela.envmails.com/ltrack?g=1&amp;id=NklW...</td>\n",
       "      <td>0.0</td>\n",
       "    </tr>\n",
       "    <tr>\n",
       "      <th>17896</th>\n",
       "      <td>Do send  me also the account details and I wil...</td>\n",
       "      <td>0.0</td>\n",
       "    </tr>\n",
       "    <tr>\n",
       "      <th>7953</th>\n",
       "      <td>quoted-printable'. 'ahhpzxypoukbgqbifhcgwgrndr...</td>\n",
       "      <td>1.0</td>\n",
       "    </tr>\n",
       "    <tr>\n",
       "      <th>8051</th>\n",
       "      <td>We recently have determined that different com...</td>\n",
       "      <td>1.0</td>\n",
       "    </tr>\n",
       "    <tr>\n",
       "      <th>...</th>\n",
       "      <td>...</td>\n",
       "      <td>...</td>\n",
       "    </tr>\n",
       "    <tr>\n",
       "      <th>786</th>\n",
       "      <td>Notification of Limited Account Access As part...</td>\n",
       "      <td>1.0</td>\n",
       "    </tr>\n",
       "    <tr>\n",
       "      <th>22500</th>\n",
       "      <td>quoted-printable'. \"=20 =20 =20\\r\\n =20\\r\\n = ...</td>\n",
       "      <td>0.0</td>\n",
       "    </tr>\n",
       "    <tr>\n",
       "      <th>21158</th>\n",
       "      <td>quoted-printable'. 'Your detailed life predict...</td>\n",
       "      <td>0.0</td>\n",
       "    </tr>\n",
       "    <tr>\n",
       "      <th>13990</th>\n",
       "      <td>base64'. None). ('text/html'. 'quoted-printabl...</td>\n",
       "      <td>0.0</td>\n",
       "    </tr>\n",
       "    <tr>\n",
       "      <th>1380</th>\n",
       "      <td>PayPal Account=AE Posible Fraud - Notification...</td>\n",
       "      <td>1.0</td>\n",
       "    </tr>\n",
       "  </tbody>\n",
       "</table>\n",
       "<p>22927 rows × 2 columns</p>\n",
       "</div>"
      ],
      "text/plain": [
       "                                                 Feature  Boolean\n",
       "19242  <=tbody> = What do we dread more than the end ...      0.0\n",
       "19047  <http://panela.envmails.com/ltrack?g=1&id=NklW...      0.0\n",
       "17896  Do send  me also the account details and I wil...      0.0\n",
       "7953   quoted-printable'. 'ahhpzxypoukbgqbifhcgwgrndr...      1.0\n",
       "8051   We recently have determined that different com...      1.0\n",
       "...                                                  ...      ...\n",
       "786    Notification of Limited Account Access As part...      1.0\n",
       "22500  quoted-printable'. \"=20 =20 =20\\r\\n =20\\r\\n = ...      0.0\n",
       "21158  quoted-printable'. 'Your detailed life predict...      0.0\n",
       "13990  base64'. None). ('text/html'. 'quoted-printabl...      0.0\n",
       "1380   PayPal Account=AE Posible Fraud - Notification...      1.0\n",
       "\n",
       "[22927 rows x 2 columns]"
      ]
     },
     "execution_count": 2,
     "metadata": {},
     "output_type": "execute_result"
    }
   ],
   "source": [
    "import pandas as pd\n",
    "df = pd.read_csv('dataset3.csv')\n",
    "df = df.sample(frac = 1)\n",
    "df"
   ]
  },
  {
   "cell_type": "code",
   "execution_count": 3,
   "id": "824d53ff",
   "metadata": {},
   "outputs": [
    {
     "data": {
      "image/png": "[encoded data removed]",
      "text/plain": [
       "<Figure size 1080x504 with 1 Axes>"
      ]
     },
     "metadata": {
      "needs_background": "light"
     },
     "output_type": "display_data"
    }
   ],
   "source": [
    "# Let's visualize the Label distiributions using seaborn\n",
    "plt.figure(figsize=(15,7))\n",
    "sns.countplot(x='Boolean',data=df)\n",
    "plt.title(\"DISTRIBUTION OF LABELS\")\n",
    "plt.show()"
   ]
  },
  {
   "cell_type": "code",
   "execution_count": 4,
   "id": "5f5b46a5",
   "metadata": {},
   "outputs": [],
   "source": [
    "def clean_text(sentence):\n",
    "    '''\n",
    "        function to clean content column, make it ready for transformation and modeling\n",
    "    '''\n",
    "    #  print(type(sentence))\n",
    "    sentence = sentence.lower()                #convert text to lower-case\n",
    "    sentence = re.sub('â€˜','',sentence)    # remove the text â€˜ which appears to occur flequently\n",
    "    sentence = re.sub('[‘’“”…,]', '', sentence) # remove punctuation\n",
    "    sentence = re.sub('_', '', sentence) # remove underscore\n",
    "    sentence = re.sub('[()]', '', sentence)  #remove parentheses\n",
    "    #sentence = re.sub(\"[^a-zA-Z]\",\" \",sentence) #remove numbers and keep text/alphabet only\n",
    "    sentence = word_tokenize(sentence)      # remove repeated characters (tanzaniaaaaaaaa to tanzania)\n",
    "\n",
    "    return ' '.join(sentence)\n"
   ]
  },
  {
   "cell_type": "code",
   "execution_count": 5,
   "id": "85b7e7ec",
   "metadata": {},
   "outputs": [
    {
     "name": "stderr",
     "output_type": "stream",
     "text": [
      "[nltk_data] Downloading package punkt to /home/nitk/nltk_data...\n",
      "[nltk_data]   Package punkt is already up-to-date!\n"
     ]
    },
    {
     "data": {
      "text/plain": [
       "True"
      ]
     },
     "execution_count": 5,
     "metadata": {},
     "output_type": "execute_result"
    }
   ],
   "source": [
    "# Applying our clean_text function on contents\n",
    "import nltk\n",
    "nltk.download('punkt')"
   ]
  },
  {
   "cell_type": "code",
   "execution_count": 6,
   "id": "bff8cea8",
   "metadata": {},
   "outputs": [
    {
     "data": {
      "text/html": [
       "<div>\n",
       "<style scoped>\n",
       "    .dataframe tbody tr th:only-of-type {\n",
       "        vertical-align: middle;\n",
       "    }\n",
       "\n",
       "    .dataframe tbody tr th {\n",
       "        vertical-align: top;\n",
       "    }\n",
       "\n",
       "    .dataframe thead th {\n",
       "        text-align: right;\n",
       "    }\n",
       "</style>\n",
       "<table border=\"1\" class=\"dataframe\">\n",
       "  <thead>\n",
       "    <tr style=\"text-align: right;\">\n",
       "      <th></th>\n",
       "      <th>Feature</th>\n",
       "      <th>Boolean</th>\n",
       "    </tr>\n",
       "  </thead>\n",
       "  <tbody>\n",
       "    <tr>\n",
       "      <th>19242</th>\n",
       "      <td>&lt; =tbody &gt; = what do we dread more than the en...</td>\n",
       "      <td>0.0</td>\n",
       "    </tr>\n",
       "    <tr>\n",
       "      <th>19047</th>\n",
       "      <td>&lt; http : //panela.envmails.com/ltrack ? g=1 &amp; ...</td>\n",
       "      <td>0.0</td>\n",
       "    </tr>\n",
       "    <tr>\n",
       "      <th>17896</th>\n",
       "      <td>do send me also the account details and i will...</td>\n",
       "      <td>0.0</td>\n",
       "    </tr>\n",
       "    <tr>\n",
       "      <th>7953</th>\n",
       "      <td>quoted-printable ' . 'ahhpzxypoukbgqbifhcgwgrn...</td>\n",
       "      <td>1.0</td>\n",
       "    </tr>\n",
       "    <tr>\n",
       "      <th>8051</th>\n",
       "      <td>we recently have determined that different com...</td>\n",
       "      <td>1.0</td>\n",
       "    </tr>\n",
       "  </tbody>\n",
       "</table>\n",
       "</div>"
      ],
      "text/plain": [
       "                                                 Feature Boolean\n",
       "19242  < =tbody > = what do we dread more than the en...     0.0\n",
       "19047  < http : //panela.envmails.com/ltrack ? g=1 & ...     0.0\n",
       "17896  do send me also the account details and i will...     0.0\n",
       "7953   quoted-printable ' . 'ahhpzxypoukbgqbifhcgwgrn...     1.0\n",
       "8051   we recently have determined that different com...     1.0"
      ]
     },
     "execution_count": 6,
     "metadata": {},
     "output_type": "execute_result"
    }
   ],
   "source": [
    "df['Feature'] = df['Feature'].apply(lambda x: str(x))\n",
    "df['Boolean'] = df['Boolean'].apply(lambda x: str(x))\n",
    "df['Feature'] = df['Feature'].apply(clean_text)\n",
    "df.head()"
   ]
  },
  {
   "cell_type": "code",
   "execution_count": 7,
   "id": "5359c30d",
   "metadata": {},
   "outputs": [],
   "source": [
    "df['Feature'] = df['Feature'].apply(lambda x: str(x))\n",
    "df['Boolean'] = df['Boolean'].apply(lambda x: str(x))"
   ]
  },
  {
   "cell_type": "code",
   "execution_count": 8,
   "id": "32c22b6f",
   "metadata": {},
   "outputs": [
    {
     "data": {
      "text/plain": [
       "(17195, 5732)"
      ]
     },
     "execution_count": 8,
     "metadata": {},
     "output_type": "execute_result"
    }
   ],
   "source": [
    "df = df[['Feature', 'Boolean']]\n",
    "SEED = 2020\n",
    "df_train = df.sample(frac=0.75, random_state=SEED)\n",
    "df_test = df.drop(df_train.index)\n",
    "len(df_train), len(df_test)"
   ]
  },
  {
   "cell_type": "code",
   "execution_count": 9,
   "id": "4f75cfc8",
   "metadata": {},
   "outputs": [],
   "source": [
    "import ktrain\n",
    "from ktrain import text\n",
    "\n",
    "# selecting transformer to use\n",
    "MODEL_NAME = 'bert-base-uncased'\n",
    "\n",
    "# Common parameters\n",
    "MAXLEN  = 128\n",
    "batch_size = 32\n",
    "learning_rate = 5e-5\n",
    "epochs = 10"
   ]
  },
  {
   "cell_type": "code",
   "execution_count": 10,
   "id": "6aee33a4",
   "metadata": {},
   "outputs": [
    {
     "name": "stdout",
     "output_type": "stream",
     "text": [
      "preprocessing train...\n",
      "language: en\n",
      "train sequence lengths:\n",
      "\tmean : 324\n",
      "\t95percentile : 1084\n",
      "\t99percentile : 2303\n"
     ]
    },
    {
     "data": {
      "text/html": [
       "\n",
       "<style>\n",
       "    /* Turns off some styling */\n",
       "    progress {\n",
       "        /* gets rid of default border in Firefox and Opera. */\n",
       "        border: none;\n",
       "        /* Needs to be in here for Safari polyfill so background images work as expected. */\n",
       "        background-size: auto;\n",
       "    }\n",
       "    .progress-bar-interrupted, .progress-bar-interrupted::-webkit-progress-bar {\n",
       "        background: #F44336;\n",
       "    }\n",
       "</style>\n"
      ],
      "text/plain": [
       "<IPython.core.display.HTML object>"
      ]
     },
     "metadata": {},
     "output_type": "display_data"
    },
    {
     "data": {
      "text/html": [],
      "text/plain": [
       "<IPython.core.display.HTML object>"
      ]
     },
     "metadata": {},
     "output_type": "display_data"
    },
    {
     "name": "stdout",
     "output_type": "stream",
     "text": [
      "Is Multi-Label? False\n",
      "preprocessing test...\n",
      "language: en\n",
      "test sequence lengths:\n",
      "\tmean : 332\n",
      "\t95percentile : 1129\n",
      "\t99percentile : 2474\n"
     ]
    },
    {
     "data": {
      "text/html": [
       "\n",
       "<style>\n",
       "    /* Turns off some styling */\n",
       "    progress {\n",
       "        /* gets rid of default border in Firefox and Opera. */\n",
       "        border: none;\n",
       "        /* Needs to be in here for Safari polyfill so background images work as expected. */\n",
       "        background-size: auto;\n",
       "    }\n",
       "    .progress-bar-interrupted, .progress-bar-interrupted::-webkit-progress-bar {\n",
       "        background: #F44336;\n",
       "    }\n",
       "</style>\n"
      ],
      "text/plain": [
       "<IPython.core.display.HTML object>"
      ]
     },
     "metadata": {},
     "output_type": "display_data"
    },
    {
     "data": {
      "text/html": [],
      "text/plain": [
       "<IPython.core.display.HTML object>"
      ]
     },
     "metadata": {},
     "output_type": "display_data"
    },
    {
     "name": "stdout",
     "output_type": "stream",
     "text": [
      "Epoch 1/10\n",
      "538/538 [==============================] - 2679s 5s/step - loss: 0.0787 - accuracy: 0.9734 - val_loss: 0.0309 - val_accuracy: 0.9899\n",
      "Epoch 2/10\n",
      "538/538 [==============================] - 2650s 5s/step - loss: 0.0359 - accuracy: 0.9866 - val_loss: 0.0337 - val_accuracy: 0.9881\n",
      "Epoch 3/10\n",
      "538/538 [==============================] - 2647s 5s/step - loss: 0.0302 - accuracy: 0.9881 - val_loss: 0.0320 - val_accuracy: 0.9904\n",
      "Epoch 4/10\n",
      "538/538 [==============================] - 2649s 5s/step - loss: 0.0325 - accuracy: 0.9882 - val_loss: 0.0264 - val_accuracy: 0.9921\n",
      "Epoch 5/10\n",
      "538/538 [==============================] - 2652s 5s/step - loss: 0.0264 - accuracy: 0.9897 - val_loss: 0.0245 - val_accuracy: 0.9916\n",
      "Epoch 6/10\n",
      "538/538 [==============================] - 2650s 5s/step - loss: 0.0261 - accuracy: 0.9896 - val_loss: 0.0247 - val_accuracy: 0.9913\n",
      "Epoch 7/10\n",
      "538/538 [==============================] - 2647s 5s/step - loss: 0.0290 - accuracy: 0.9888 - val_loss: 0.0286 - val_accuracy: 0.9918\n",
      "Epoch 8/10\n",
      "538/538 [==============================] - 2649s 5s/step - loss: 0.0348 - accuracy: 0.9878 - val_loss: 0.0388 - val_accuracy: 0.9908\n",
      "Epoch 9/10\n",
      "538/538 [==============================] - 2645s 5s/step - loss: 0.0372 - accuracy: 0.9871 - val_loss: 0.0329 - val_accuracy: 0.9902\n",
      "Epoch 10/10\n",
      "538/538 [==============================] - 2700s 5s/step - loss: 0.0302 - accuracy: 0.9890 - val_loss: 0.0303 - val_accuracy: 0.9906\n"
     ]
    }
   ],
   "source": [
    "t = text.Transformer(MODEL_NAME, maxlen = MAXLEN)\n",
    "trn = t.preprocess_train(df_train.Feature.values, df_train.Boolean.values)\n",
    "val = t.preprocess_test(df_test.Feature.values, df_test.Boolean.values)\n",
    "model = t.get_classifier()\n",
    "learner = ktrain.get_learner(model, train_data=trn, val_data=val, batch_size=batch_size)\n",
    "history = learner.fit(learning_rate, epochs)"
   ]
  },
  {
   "cell_type": "code",
   "execution_count": 11,
   "id": "00e4f492",
   "metadata": {},
   "outputs": [],
   "source": [
    "train_loss = history.history['loss']\n",
    "train_acc = history.history['accuracy']\n",
    "val_loss = history.history['val_loss']\n",
    "val_acc = history.history['val_accuracy']\n",
    "xc=range(len(train_loss))"
   ]
  },
  {
   "cell_type": "code",
   "execution_count": 12,
   "id": "88e53984",
   "metadata": {},
   "outputs": [
    {
     "data": {
      "text/plain": [
       "<matplotlib.legend.Legend at 0x7fdeb9101970>"
      ]
     },
     "execution_count": 12,
     "metadata": {},
     "output_type": "execute_result"
    },
    {
     "data": {
      "image/png": "[encoded data removed]",
      "text/plain": [
       "<Figure size 432x288 with 1 Axes>"
      ]
     },
     "metadata": {
      "needs_background": "light"
     },
     "output_type": "display_data"
    }
   ],
   "source": [
    "import matplotlib.pyplot as plt\n",
    "%matplotlib inline\n",
    "plt.plot(xc, train_acc)\n",
    "plt.plot(xc, val_acc)\n",
    "plt.xlabel(\"Epoch\")\n",
    "plt.ylabel(\"Acc\")\n",
    "plt.legend(['train','val'])"
   ]
  },
  {
   "cell_type": "code",
   "execution_count": 13,
   "id": "32dbbeb0",
   "metadata": {},
   "outputs": [
    {
     "data": {
      "text/plain": [
       "<matplotlib.legend.Legend at 0x7fdeb90d8f70>"
      ]
     },
     "execution_count": 13,
     "metadata": {},
     "output_type": "execute_result"
    },
    {
     "data": {
      "image/png": "[encoded data removed]",
      "text/plain": [
       "<Figure size 432x288 with 1 Axes>"
      ]
     },
     "metadata": {
      "needs_background": "light"
     },
     "output_type": "display_data"
    }
   ],
   "source": [
    "import matplotlib.pyplot as plt\n",
    "%matplotlib inline\n",
    "plt.plot(xc, train_loss)\n",
    "plt.plot(xc, val_loss)\n",
    "plt.xlabel(\"Epoch\")\n",
    "plt.ylabel(\"Loss\")\n",
    "plt.legend(['train','val'])"
   ]
  },
  {
   "cell_type": "code",
   "execution_count": 14,
   "id": "34b97314",
   "metadata": {},
   "outputs": [
    {
     "name": "stdout",
     "output_type": "stream",
     "text": [
      "Model: \"tf_bert_for_sequence_classification\"\n",
      "_________________________________________________________________\n",
      " Layer (type)                Output Shape              Param #   \n",
      "=================================================================\n",
      " bert (TFBertMainLayer)      multiple                  109482240 \n",
      "                                                                 \n",
      " dropout_37 (Dropout)        multiple                  0         \n",
      "                                                                 \n",
      " classifier (Dense)          multiple                  2307      \n",
      "                                                                 \n",
      "=================================================================\n",
      "Total params: 109,484,547\n",
      "Trainable params: 109,484,547\n",
      "Non-trainable params: 0\n",
      "_________________________________________________________________\n"
     ]
    }
   ],
   "source": [
    "model.summary()"
   ]
  },
  {
   "cell_type": "code",
   "execution_count": 16,
   "id": "82baae33",
   "metadata": {},
   "outputs": [
    {
     "name": "stdout",
     "output_type": "stream",
     "text": [
      "              precision    recall  f1-score   support\n",
      "\n",
      "           0       0.98      1.00      0.99      3107\n",
      "           1       1.00      0.98      0.99      2625\n",
      "\n",
      "    accuracy                           0.99      5732\n",
      "   macro avg       0.99      0.99      0.99      5732\n",
      "weighted avg       0.99      0.99      0.99      5732\n",
      "\n"
     ]
    },
    {
     "data": {
      "text/plain": [
       "array([[3101,    6],\n",
       "       [  48, 2577]])"
      ]
     },
     "execution_count": 16,
     "metadata": {},
     "output_type": "execute_result"
    }
   ],
   "source": [
    "learner.validate(val_data=val)"
   ]
  },
  {
   "cell_type": "code",
   "execution_count": 17,
   "id": "1f2840ac",
   "metadata": {},
   "outputs": [],
   "source": [
    "classifier = ktrain.get_predictor(learner.model, t)"
   ]
  },
  {
   "cell_type": "code",
   "execution_count": 18,
   "id": "d4c8f9e4",
   "metadata": {},
   "outputs": [],
   "source": [
    "classifier.save('model/MODEL3')"
   ]
  },
  {
   "cell_type": "code",
   "execution_count": null,
   "id": "ae19e0b7",
   "metadata": {},
   "outputs": [],
   "source": []
  }
 ],
 "metadata": {
  "kernelspec": {
   "display_name": "Python 3 (ipykernel)",
   "language": "python",
   "name": "python3"
  },
  "language_info": {
   "codemirror_mode": {
    "name": "ipython",
    "version": 3
   },
   "file_extension": ".py",
   "mimetype": "text/x-python",
   "name": "python",
   "nbconvert_exporter": "python",
   "pygments_lexer": "ipython3",
   "version": "3.9.12"
  }
 },
 "nbformat": 4,
 "nbformat_minor": 5
}
