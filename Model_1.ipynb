{
 "cells": [
  {
   "cell_type": "code",
   "execution_count": 2,
   "id": "b2bb0f36",
   "metadata": {},
   "outputs": [],
   "source": [
    "import pandas as pd\n",
    "import numpy as np\n",
    "import seaborn as sns\n",
    "import matplotlib.pyplot as plt\n",
    "import os\n",
    "from nltk import word_tokenize\n",
    "import string\n",
    "import re\n",
    "\n",
    "import warnings\n",
    "warnings.filterwarnings(\"ignore\")\n"
   ]
  },
  {
   "cell_type": "code",
   "execution_count": 3,
   "id": "4fae07f6",
   "metadata": {},
   "outputs": [
    {
     "data": {
      "text/html": [
       "<div>\n",
       "<style scoped>\n",
       "    .dataframe tbody tr th:only-of-type {\n",
       "        vertical-align: middle;\n",
       "    }\n",
       "\n",
       "    .dataframe tbody tr th {\n",
       "        vertical-align: top;\n",
       "    }\n",
       "\n",
       "    .dataframe thead th {\n",
       "        text-align: right;\n",
       "    }\n",
       "</style>\n",
       "<table border=\"1\" class=\"dataframe\">\n",
       "  <thead>\n",
       "    <tr style=\"text-align: right;\">\n",
       "      <th></th>\n",
       "      <th>Feature</th>\n",
       "      <th>Boolean</th>\n",
       "      <th>Label</th>\n",
       "    </tr>\n",
       "  </thead>\n",
       "  <tbody>\n",
       "    <tr>\n",
       "      <th>4079</th>\n",
       "      <td>Dear valued PayPal® member , We recently revie...</td>\n",
       "      <td>1.0</td>\n",
       "      <td>True</td>\n",
       "    </tr>\n",
       "    <tr>\n",
       "      <th>3209</th>\n",
       "      <td>Dear member, Due to concerns we have for the s...</td>\n",
       "      <td>1.0</td>\n",
       "      <td>True</td>\n",
       "    </tr>\n",
       "    <tr>\n",
       "      <th>6138</th>\n",
       "      <td>Once upon a time  Jesse wrote :\\n\\n Oh yeah  I...</td>\n",
       "      <td>0.0</td>\n",
       "      <td>False</td>\n",
       "    </tr>\n",
       "    <tr>\n",
       "      <th>3532</th>\n",
       "      <td>As part of our security measures, we regularly...</td>\n",
       "      <td>1.0</td>\n",
       "      <td>True</td>\n",
       "    </tr>\n",
       "    <tr>\n",
       "      <th>3165</th>\n",
       "      <td>eBay sent this message. Your registered name i...</td>\n",
       "      <td>1.0</td>\n",
       "      <td>True</td>\n",
       "    </tr>\n",
       "    <tr>\n",
       "      <th>...</th>\n",
       "      <td>...</td>\n",
       "      <td>...</td>\n",
       "      <td>...</td>\n",
       "    </tr>\n",
       "    <tr>\n",
       "      <th>867</th>\n",
       "      <td>Your registered name is included to show this ...</td>\n",
       "      <td>1.0</td>\n",
       "      <td>True</td>\n",
       "    </tr>\n",
       "    <tr>\n",
       "      <th>4670</th>\n",
       "      <td>URL: http://diveintomark.org/archives/2002/10/...</td>\n",
       "      <td>0.0</td>\n",
       "      <td>False</td>\n",
       "    </tr>\n",
       "    <tr>\n",
       "      <th>2083</th>\n",
       "      <td>Dear Customer, You have one new message at Cap...</td>\n",
       "      <td>1.0</td>\n",
       "      <td>True</td>\n",
       "    </tr>\n",
       "    <tr>\n",
       "      <th>4364</th>\n",
       "      <td>URL: http://www.newsisfree.com/click/-4 825931...</td>\n",
       "      <td>0.0</td>\n",
       "      <td>False</td>\n",
       "    </tr>\n",
       "    <tr>\n",
       "      <th>6775</th>\n",
       "      <td>use Perl Daily Newsletter\\n\\nIn this issue:\\n ...</td>\n",
       "      <td>0.0</td>\n",
       "      <td>False</td>\n",
       "    </tr>\n",
       "  </tbody>\n",
       "</table>\n",
       "<p>8194 rows × 3 columns</p>\n",
       "</div>"
      ],
      "text/plain": [
       "                                                Feature  Boolean  Label\n",
       "4079  Dear valued PayPal® member , We recently revie...      1.0   True\n",
       "3209  Dear member, Due to concerns we have for the s...      1.0   True\n",
       "6138  Once upon a time  Jesse wrote :\\n\\n Oh yeah  I...      0.0  False\n",
       "3532  As part of our security measures, we regularly...      1.0   True\n",
       "3165  eBay sent this message. Your registered name i...      1.0   True\n",
       "...                                                 ...      ...    ...\n",
       "867   Your registered name is included to show this ...      1.0   True\n",
       "4670  URL: http://diveintomark.org/archives/2002/10/...      0.0  False\n",
       "2083  Dear Customer, You have one new message at Cap...      1.0   True\n",
       "4364  URL: http://www.newsisfree.com/click/-4 825931...      0.0  False\n",
       "6775  use Perl Daily Newsletter\\n\\nIn this issue:\\n ...      0.0  False\n",
       "\n",
       "[8194 rows x 3 columns]"
      ]
     },
     "execution_count": 3,
     "metadata": {},
     "output_type": "execute_result"
    }
   ],
   "source": [
    "# import pandas as pd\n",
    "  \n",
    "# # Read and store content\n",
    "# # of an excel file \n",
    "# read_file = pd.read_excel (\"Copyphishing.xlsx\")\n",
    "  \n",
    "# # Write the dataframe object\n",
    "# # into csv file\n",
    "# read_file.to_csv (\"Copyphishing.csv\", \n",
    "#                   index = None,\n",
    "#                   header=True)\n",
    "\n",
    "import pandas as pd\n",
    "# read_file = pd.read_excel(\"Copyphishing.xlsx\")\n",
    "# read_file.to_csv(\"Copyphishing.xlsx\", index=None,header =True)\n",
    "df = pd.read_csv('Copyphishing.csv')\n",
    "df = df.sample(frac = 1)\n",
    "df"
   ]
  },
  {
   "cell_type": "code",
   "execution_count": 4,
   "id": "b09b1b5f",
   "metadata": {},
   "outputs": [
    {
     "data": {
      "image/png": "[encoded data removed]",
      "text/plain": [
       "<Figure size 1080x504 with 1 Axes>"
      ]
     },
     "metadata": {
      "needs_background": "light"
     },
     "output_type": "display_data"
    }
   ],
   "source": [
    "# Let's visualize the Label distiributions using seaborn\n",
    "plt.figure(figsize=(15,7))\n",
    "sns.countplot(x='Label',data=df)\n",
    "plt.title(\"DISTRIBUTION OF LABELS\")\n",
    "plt.show()"
   ]
  },
  {
   "cell_type": "code",
   "execution_count": 5,
   "id": "1f7090ef",
   "metadata": {},
   "outputs": [],
   "source": [
    "def clean_text(sentence):\n",
    "    '''\n",
    "        function to clean content column, make it ready for transformation and modeling\n",
    "    '''\n",
    "    #  print(type(sentence))\n",
    "    sentence = sentence.lower()                #convert text to lower-case\n",
    "    sentence = re.sub('â€˜','',sentence)    # remove the text â€˜ which appears to occur flequently\n",
    "    sentence = re.sub('[‘’“”…,]', '', sentence) # remove punctuation\n",
    "    sentence = re.sub('_', '', sentence) # remove underscore\n",
    "    sentence = re.sub('[()]', '', sentence)  #remove parentheses\n",
    "    #sentence = re.sub(\"[^a-zA-Z]\",\" \",sentence) #remove numbers and keep text/alphabet only\n",
    "    sentence = word_tokenize(sentence)      # remove repeated characters (tanzaniaaaaaaaa to tanzania)\n",
    "\n",
    "    return ' '.join(sentence)"
   ]
  },
  {
   "cell_type": "code",
   "execution_count": 6,
   "id": "0b721046",
   "metadata": {},
   "outputs": [
    {
     "name": "stderr",
     "output_type": "stream",
     "text": [
      "[nltk_data] Downloading package punkt to /home/nitk/nltk_data...\n",
      "[nltk_data]   Package punkt is already up-to-date!\n"
     ]
    },
    {
     "data": {
      "text/plain": [
       "True"
      ]
     },
     "execution_count": 6,
     "metadata": {},
     "output_type": "execute_result"
    }
   ],
   "source": [
    "# Applying our clean_text function on contents\n",
    "import nltk\n",
    "nltk.download('punkt')"
   ]
  },
  {
   "cell_type": "code",
   "execution_count": 7,
   "id": "0086b369",
   "metadata": {},
   "outputs": [
    {
     "data": {
      "text/html": [
       "<div>\n",
       "<style scoped>\n",
       "    .dataframe tbody tr th:only-of-type {\n",
       "        vertical-align: middle;\n",
       "    }\n",
       "\n",
       "    .dataframe tbody tr th {\n",
       "        vertical-align: top;\n",
       "    }\n",
       "\n",
       "    .dataframe thead th {\n",
       "        text-align: right;\n",
       "    }\n",
       "</style>\n",
       "<table border=\"1\" class=\"dataframe\">\n",
       "  <thead>\n",
       "    <tr style=\"text-align: right;\">\n",
       "      <th></th>\n",
       "      <th>Feature</th>\n",
       "      <th>Boolean</th>\n",
       "      <th>Label</th>\n",
       "    </tr>\n",
       "  </thead>\n",
       "  <tbody>\n",
       "    <tr>\n",
       "      <th>4079</th>\n",
       "      <td>dear valued paypal® member we recently reviewe...</td>\n",
       "      <td>1.0</td>\n",
       "      <td>True</td>\n",
       "    </tr>\n",
       "    <tr>\n",
       "      <th>3209</th>\n",
       "      <td>dear member due to concerns we have for the sa...</td>\n",
       "      <td>1.0</td>\n",
       "      <td>True</td>\n",
       "    </tr>\n",
       "    <tr>\n",
       "      <th>6138</th>\n",
       "      <td>once upon a time jesse wrote : \\n\\n oh yeah i ...</td>\n",
       "      <td>0.0</td>\n",
       "      <td>False</td>\n",
       "    </tr>\n",
       "    <tr>\n",
       "      <th>3532</th>\n",
       "      <td>as part of our security measures we regularly ...</td>\n",
       "      <td>1.0</td>\n",
       "      <td>True</td>\n",
       "    </tr>\n",
       "    <tr>\n",
       "      <th>3165</th>\n",
       "      <td>ebay sent this message . your registered name ...</td>\n",
       "      <td>1.0</td>\n",
       "      <td>True</td>\n",
       "    </tr>\n",
       "  </tbody>\n",
       "</table>\n",
       "</div>"
      ],
      "text/plain": [
       "                                                Feature  Boolean  Label\n",
       "4079  dear valued paypal® member we recently reviewe...      1.0   True\n",
       "3209  dear member due to concerns we have for the sa...      1.0   True\n",
       "6138  once upon a time jesse wrote : \\n\\n oh yeah i ...      0.0  False\n",
       "3532  as part of our security measures we regularly ...      1.0   True\n",
       "3165  ebay sent this message . your registered name ...      1.0   True"
      ]
     },
     "execution_count": 7,
     "metadata": {},
     "output_type": "execute_result"
    }
   ],
   "source": [
    "df['Feature'] = df['Feature'].apply(lambda x: str(x))\n",
    "df['Label'] = df['Label'].apply(lambda x: str(x))\n",
    "df['Feature'] = df['Feature'].apply(clean_text)\n",
    "df.head()"
   ]
  },
  {
   "cell_type": "code",
   "execution_count": 8,
   "id": "dbfec570",
   "metadata": {},
   "outputs": [],
   "source": [
    "df['Feature'] = df['Feature'].apply(lambda x: str(x))\n",
    "df['Label'] = df['Label'].apply(lambda x: str(x))"
   ]
  },
  {
   "cell_type": "code",
   "execution_count": 9,
   "id": "412603e5",
   "metadata": {},
   "outputs": [
    {
     "data": {
      "text/plain": [
       "(6146, 2048)"
      ]
     },
     "execution_count": 9,
     "metadata": {},
     "output_type": "execute_result"
    }
   ],
   "source": [
    "df = df[['Feature', 'Label']]\n",
    "SEED = 2020\n",
    "df_train = df.sample(frac=0.75, random_state=SEED)\n",
    "df_test = df.drop(df_train.index)\n",
    "len(df_train), len(df_test)"
   ]
  },
  {
   "cell_type": "code",
   "execution_count": 25,
   "id": "d834d61f",
   "metadata": {},
   "outputs": [],
   "source": [
    "import ktrain\n",
    "from ktrain import text\n",
    "\n",
    "# selecting transformer to use\n",
    "MODEL_NAME = 'bert-base-uncased'\n",
    "\n",
    "# Common parameters\n",
    "MAXLEN  = 128\n",
    "batch_size = 32\n",
    "learning_rate = 5e-5\n",
    "epochs = 10"
   ]
  },
  {
   "cell_type": "code",
   "execution_count": 26,
   "id": "ce7ec645",
   "metadata": {},
   "outputs": [
    {
     "name": "stdout",
     "output_type": "stream",
     "text": [
      "preprocessing train...\n",
      "language: en\n",
      "train sequence lengths:\n",
      "\tmean : 259\n",
      "\t95percentile : 616\n",
      "\t99percentile : 2000\n"
     ]
    },
    {
     "data": {
      "text/html": [
       "\n",
       "<style>\n",
       "    /* Turns off some styling */\n",
       "    progress {\n",
       "        /* gets rid of default border in Firefox and Opera. */\n",
       "        border: none;\n",
       "        /* Needs to be in here for Safari polyfill so background images work as expected. */\n",
       "        background-size: auto;\n",
       "    }\n",
       "    .progress-bar-interrupted, .progress-bar-interrupted::-webkit-progress-bar {\n",
       "        background: #F44336;\n",
       "    }\n",
       "</style>\n"
      ],
      "text/plain": [
       "<IPython.core.display.HTML object>"
      ]
     },
     "metadata": {},
     "output_type": "display_data"
    },
    {
     "data": {
      "text/html": [],
      "text/plain": [
       "<IPython.core.display.HTML object>"
      ]
     },
     "metadata": {},
     "output_type": "display_data"
    },
    {
     "name": "stdout",
     "output_type": "stream",
     "text": [
      "Is Multi-Label? False\n",
      "preprocessing test...\n",
      "language: en\n",
      "test sequence lengths:\n",
      "\tmean : 260\n",
      "\t95percentile : 617\n",
      "\t99percentile : 1678\n"
     ]
    },
    {
     "data": {
      "text/html": [
       "\n",
       "<style>\n",
       "    /* Turns off some styling */\n",
       "    progress {\n",
       "        /* gets rid of default border in Firefox and Opera. */\n",
       "        border: none;\n",
       "        /* Needs to be in here for Safari polyfill so background images work as expected. */\n",
       "        background-size: auto;\n",
       "    }\n",
       "    .progress-bar-interrupted, .progress-bar-interrupted::-webkit-progress-bar {\n",
       "        background: #F44336;\n",
       "    }\n",
       "</style>\n"
      ],
      "text/plain": [
       "<IPython.core.display.HTML object>"
      ]
     },
     "metadata": {},
     "output_type": "display_data"
    },
    {
     "data": {
      "text/html": [],
      "text/plain": [
       "<IPython.core.display.HTML object>"
      ]
     },
     "metadata": {},
     "output_type": "display_data"
    },
    {
     "name": "stdout",
     "output_type": "stream",
     "text": [
      "Epoch 1/10\n",
      "193/193 [==============================] - 966s 5s/step - loss: 0.0886 - accuracy: 0.9655 - val_loss: 0.0240 - val_accuracy: 0.9951\n",
      "Epoch 2/10\n",
      "193/193 [==============================] - 952s 5s/step - loss: 0.0130 - accuracy: 0.9964 - val_loss: 0.0202 - val_accuracy: 0.9932\n",
      "Epoch 3/10\n",
      "193/193 [==============================] - 951s 5s/step - loss: 0.0147 - accuracy: 0.9956 - val_loss: 0.0282 - val_accuracy: 0.9937\n",
      "Epoch 4/10\n",
      "193/193 [==============================] - 951s 5s/step - loss: 0.0066 - accuracy: 0.9990 - val_loss: 0.0270 - val_accuracy: 0.9946\n",
      "Epoch 5/10\n",
      "193/193 [==============================] - 952s 5s/step - loss: 0.0034 - accuracy: 0.9995 - val_loss: 0.0225 - val_accuracy: 0.9946\n",
      "Epoch 6/10\n",
      "193/193 [==============================] - 951s 5s/step - loss: 0.0023 - accuracy: 0.9995 - val_loss: 0.0251 - val_accuracy: 0.9951\n",
      "Epoch 7/10\n",
      "193/193 [==============================] - 952s 5s/step - loss: 0.0019 - accuracy: 0.9997 - val_loss: 0.0310 - val_accuracy: 0.9941\n",
      "Epoch 8/10\n",
      "193/193 [==============================] - 951s 5s/step - loss: 0.0017 - accuracy: 0.9997 - val_loss: 0.0289 - val_accuracy: 0.9941\n",
      "Epoch 9/10\n",
      "193/193 [==============================] - 950s 5s/step - loss: 0.0018 - accuracy: 0.9997 - val_loss: 0.0305 - val_accuracy: 0.9937\n",
      "Epoch 10/10\n",
      "193/193 [==============================] - 956s 5s/step - loss: 0.0018 - accuracy: 0.9997 - val_loss: 0.0301 - val_accuracy: 0.9937\n"
     ]
    }
   ],
   "source": [
    "t = text.Transformer(MODEL_NAME, maxlen = MAXLEN)\n",
    "trn = t.preprocess_train(df_train.Feature.values, df_train.Label.values)\n",
    "val = t.preprocess_test(df_test.Feature.values, df_test.Label.values)\n",
    "model = t.get_classifier()\n",
    "learner = ktrain.get_learner(model, train_data=trn, val_data=val, batch_size=batch_size)\n",
    "history = learner.fit(learning_rate, epochs)\n"
   ]
  },
  {
   "cell_type": "code",
   "execution_count": 27,
   "id": "71bb7103",
   "metadata": {},
   "outputs": [
    {
     "name": "stdout",
     "output_type": "stream",
     "text": [
      "dict_keys(['loss', 'accuracy', 'val_loss', 'val_accuracy'])\n"
     ]
    }
   ],
   "source": [
    "print(history.history.keys())"
   ]
  },
  {
   "cell_type": "code",
   "execution_count": 28,
   "id": "8a6d3a51",
   "metadata": {},
   "outputs": [],
   "source": [
    "train_loss = history.history['loss']\n",
    "train_acc = history.history['accuracy']\n",
    "val_loss = history.history['val_loss']\n",
    "val_acc = history.history['val_accuracy']\n",
    "xc=range(len(train_loss))"
   ]
  },
  {
   "cell_type": "code",
   "execution_count": 29,
   "id": "f2a37d1a",
   "metadata": {},
   "outputs": [
    {
     "data": {
      "text/plain": [
       "<matplotlib.legend.Legend at 0x7f077478f8b0>"
      ]
     },
     "execution_count": 29,
     "metadata": {},
     "output_type": "execute_result"
    },
    {
     "data": {
      "image/png": "[encoded data removed]",
      "text/plain": [
       "<Figure size 432x288 with 1 Axes>"
      ]
     },
     "metadata": {
      "needs_background": "light"
     },
     "output_type": "display_data"
    }
   ],
   "source": [
    "import matplotlib.pyplot as plt\n",
    "%matplotlib inline\n",
    "plt.plot(xc, train_acc)\n",
    "plt.plot(xc, val_acc)\n",
    "plt.xlabel(\"Epoch\")\n",
    "plt.ylabel(\"Acc\")\n",
    "plt.legend(['train','val'])"
   ]
  },
  {
   "cell_type": "code",
   "execution_count": 30,
   "id": "48ba5d37",
   "metadata": {},
   "outputs": [
    {
     "data": {
      "text/plain": [
       "<matplotlib.legend.Legend at 0x7f078d61f940>"
      ]
     },
     "execution_count": 30,
     "metadata": {},
     "output_type": "execute_result"
    },
    {
     "data": {
      "image/png": "[encoded data removed]",
      "text/plain": [
       "<Figure size 432x288 with 1 Axes>"
      ]
     },
     "metadata": {
      "needs_background": "light"
     },
     "output_type": "display_data"
    }
   ],
   "source": [
    "import matplotlib.pyplot as plt\n",
    "%matplotlib inline\n",
    "plt.plot(xc, train_loss)\n",
    "plt.plot(xc, val_loss)\n",
    "plt.xlabel(\"Epoch\")\n",
    "plt.ylabel(\"Loss\")\n",
    "plt.legend(['train','val'])"
   ]
  },
  {
   "cell_type": "code",
   "execution_count": 31,
   "id": "b7a58d47",
   "metadata": {
    "scrolled": true
   },
   "outputs": [
    {
     "name": "stdout",
     "output_type": "stream",
     "text": [
      "Model: \"tf_bert_for_sequence_classification_2\"\n",
      "_________________________________________________________________\n",
      " Layer (type)                Output Shape              Param #   \n",
      "=================================================================\n",
      " bert (TFBertMainLayer)      multiple                  109482240 \n",
      "                                                                 \n",
      " dropout_113 (Dropout)       multiple                  0         \n",
      "                                                                 \n",
      " classifier (Dense)          multiple                  1538      \n",
      "                                                                 \n",
      "=================================================================\n",
      "Total params: 109,483,778\n",
      "Trainable params: 109,483,778\n",
      "Non-trainable params: 0\n",
      "_________________________________________________________________\n"
     ]
    }
   ],
   "source": [
    "model.summary()"
   ]
  },
  {
   "cell_type": "code",
   "execution_count": 32,
   "id": "991da6fe",
   "metadata": {},
   "outputs": [
    {
     "name": "stdout",
     "output_type": "stream",
     "text": [
      "              precision    recall  f1-score   support\n",
      "\n",
      "       False       1.00      0.99      0.99       994\n",
      "        True       0.99      1.00      0.99      1054\n",
      "\n",
      "    accuracy                           0.99      2048\n",
      "   macro avg       0.99      0.99      0.99      2048\n",
      "weighted avg       0.99      0.99      0.99      2048\n",
      "\n"
     ]
    },
    {
     "data": {
      "text/plain": [
       "array([[ 984,   10],\n",
       "       [   3, 1051]])"
      ]
     },
     "execution_count": 32,
     "metadata": {},
     "output_type": "execute_result"
    }
   ],
   "source": [
    "learner.validate(val_data=val, class_names=t.get_classes())"
   ]
  },
  {
   "cell_type": "code",
   "execution_count": 35,
   "id": "373fb771",
   "metadata": {},
   "outputs": [],
   "source": [
    "classifier = ktrain.get_predictor(learner.model, t)"
   ]
  },
  {
   "cell_type": "code",
   "execution_count": 36,
   "id": "3c4a6950",
   "metadata": {},
   "outputs": [],
   "source": [
    "classifier.save('model/transformer_deleted')\n"
   ]
  },
  {
   "cell_type": "code",
   "execution_count": null,
   "id": "7d9e3c8f",
   "metadata": {},
   "outputs": [],
   "source": [
    "# predictor = ktrain.load_predictor('model/transformer1')"
   ]
  },
  {
   "cell_type": "code",
   "execution_count": null,
   "id": "16e8303f",
   "metadata": {},
   "outputs": [],
   "source": [
    "# classifier = ktrain.get_predictor(learner.model, t)    "
   ]
  }
 ],
 "metadata": {
  "kernelspec": {
   "display_name": "Python 3 (ipykernel)",
   "language": "python",
   "name": "python3"
  },
  "language_info": {
   "codemirror_mode": {
    "name": "ipython",
    "version": 3
   },
   "file_extension": ".py",
   "mimetype": "text/x-python",
   "name": "python",
   "nbconvert_exporter": "python",
   "pygments_lexer": "ipython3",
   "version": "3.8.10"
  }
 },
 "nbformat": 4,
 "nbformat_minor": 5
}
