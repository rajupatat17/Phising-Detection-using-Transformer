{
 "cells": [
  {
   "cell_type": "code",
   "execution_count": 1,
   "id": "e9b448eb",
   "metadata": {},
   "outputs": [],
   "source": [
    "import pandas as pd\n",
    "import numpy as np\n",
    "import seaborn as sns\n",
    "import matplotlib.pyplot as plt\n",
    "import os\n",
    "from nltk import word_tokenize\n",
    "import string\n",
    "import re\n",
    "\n",
    "import warnings\n",
    "warnings.filterwarnings(\"ignore\")\n"
   ]
  },
  {
   "cell_type": "code",
   "execution_count": 2,
   "id": "d420e94a",
   "metadata": {},
   "outputs": [
    {
     "data": {
      "text/html": [
       "<div>\n",
       "<style scoped>\n",
       "    .dataframe tbody tr th:only-of-type {\n",
       "        vertical-align: middle;\n",
       "    }\n",
       "\n",
       "    .dataframe tbody tr th {\n",
       "        vertical-align: top;\n",
       "    }\n",
       "\n",
       "    .dataframe thead th {\n",
       "        text-align: right;\n",
       "    }\n",
       "</style>\n",
       "<table border=\"1\" class=\"dataframe\">\n",
       "  <thead>\n",
       "    <tr style=\"text-align: right;\">\n",
       "      <th></th>\n",
       "      <th>Features</th>\n",
       "      <th>Boolean</th>\n",
       "    </tr>\n",
       "  </thead>\n",
       "  <tbody>\n",
       "    <tr>\n",
       "      <th>10588</th>\n",
       "      <td>base64'. None). ('text/html'. 'quoted-printabl...</td>\n",
       "      <td>0</td>\n",
       "    </tr>\n",
       "    <tr>\n",
       "      <th>18397</th>\n",
       "      <td>Err:509</td>\n",
       "      <td>0</td>\n",
       "    </tr>\n",
       "    <tr>\n",
       "      <th>1133</th>\n",
       "      <td>Open in New Tab &lt;http://emaila.goglogo.com/ltr...</td>\n",
       "      <td>1</td>\n",
       "    </tr>\n",
       "    <tr>\n",
       "      <th>10789</th>\n",
       "      <td>This is a system generated mail. Please do not...</td>\n",
       "      <td>0</td>\n",
       "    </tr>\n",
       "    <tr>\n",
       "      <th>17585</th>\n",
       "      <td>Â Â Â Â Daily Newsletter Â Â Monday. 16th May ...</td>\n",
       "      <td>0</td>\n",
       "    </tr>\n",
       "    <tr>\n",
       "      <th>...</th>\n",
       "      <td>...</td>\n",
       "      <td>...</td>\n",
       "    </tr>\n",
       "    <tr>\n",
       "      <th>14772</th>\n",
       "      <td>From: somesha m &lt;somesh.naik@gmail.com&gt;Date: F...</td>\n",
       "      <td>0</td>\n",
       "    </tr>\n",
       "    <tr>\n",
       "      <th>1423</th>\n",
       "      <td>If you are not able to view. please click here...</td>\n",
       "      <td>1</td>\n",
       "    </tr>\n",
       "    <tr>\n",
       "      <th>9838</th>\n",
       "      <td>quoted-printable'. '*Sir/Madam.*Department of ...</td>\n",
       "      <td>0</td>\n",
       "    </tr>\n",
       "    <tr>\n",
       "      <th>17644</th>\n",
       "      <td>base64'. None). ('text/html'. 'Apply today! Ac...</td>\n",
       "      <td>0</td>\n",
       "    </tr>\n",
       "    <tr>\n",
       "      <th>11247</th>\n",
       "      <td>quoted-printable'. \"Two weeks Online FDP Progr...</td>\n",
       "      <td>0</td>\n",
       "    </tr>\n",
       "  </tbody>\n",
       "</table>\n",
       "<p>21679 rows × 2 columns</p>\n",
       "</div>"
      ],
      "text/plain": [
       "                                                Features  Boolean\n",
       "10588  base64'. None). ('text/html'. 'quoted-printabl...        0\n",
       "18397                                            Err:509        0\n",
       "1133   Open in New Tab <http://emaila.goglogo.com/ltr...        1\n",
       "10789  This is a system generated mail. Please do not...        0\n",
       "17585  Â Â Â Â Daily Newsletter Â Â Monday. 16th May ...        0\n",
       "...                                                  ...      ...\n",
       "14772  From: somesha m <somesh.naik@gmail.com>Date: F...        0\n",
       "1423   If you are not able to view. please click here...        1\n",
       "9838   quoted-printable'. '*Sir/Madam.*Department of ...        0\n",
       "17644  base64'. None). ('text/html'. 'Apply today! Ac...        0\n",
       "11247  quoted-printable'. \"Two weeks Online FDP Progr...        0\n",
       "\n",
       "[21679 rows x 2 columns]"
      ]
     },
     "execution_count": 2,
     "metadata": {},
     "output_type": "execute_result"
    }
   ],
   "source": [
    "import pandas as pd\n",
    "df = pd.read_csv('Phishing.csv')\n",
    "df = df.sample(frac = 1)\n",
    "df"
   ]
  },
  {
   "cell_type": "code",
   "execution_count": 3,
   "id": "5b5143fe",
   "metadata": {},
   "outputs": [
    {
     "data": {
      "image/png": "[encoded data removed]",
      "text/plain": [
       "<Figure size 1080x504 with 1 Axes>"
      ]
     },
     "metadata": {
      "needs_background": "light"
     },
     "output_type": "display_data"
    }
   ],
   "source": [
    "# Let's visualize the Label distiributions using seaborn\n",
    "plt.figure(figsize=(15,7))\n",
    "sns.countplot(x='Boolean',data=df)\n",
    "plt.title(\"DISTRIBUTION OF LABELS\")\n",
    "plt.show()"
   ]
  },
  {
   "cell_type": "code",
   "execution_count": 4,
   "id": "91f050ed",
   "metadata": {},
   "outputs": [],
   "source": [
    "def clean_text(sentence):\n",
    "    '''\n",
    "        function to clean content column, make it ready for transformation and modeling\n",
    "    '''\n",
    "    #  print(type(sentence))\n",
    "    sentence = sentence.lower()                #convert text to lower-case\n",
    "    sentence = re.sub('â€˜','',sentence)    # remove the text â€˜ which appears to occur flequently\n",
    "    sentence = re.sub('[‘’“”…,]', '', sentence) # remove punctuation\n",
    "    sentence = re.sub('_', '', sentence) # remove underscore\n",
    "    sentence = re.sub('[()]', '', sentence)  #remove parentheses\n",
    "    #sentence = re.sub(\"[^a-zA-Z]\",\" \",sentence) #remove numbers and keep text/alphabet only\n",
    "    sentence = word_tokenize(sentence)      # remove repeated characters (tanzaniaaaaaaaa to tanzania)\n",
    "\n",
    "    return ' '.join(sentence)"
   ]
  },
  {
   "cell_type": "code",
   "execution_count": 5,
   "id": "8c1a0d9e",
   "metadata": {},
   "outputs": [
    {
     "name": "stderr",
     "output_type": "stream",
     "text": [
      "[nltk_data] Downloading package punkt to /home/nitk/nltk_data...\n",
      "[nltk_data]   Package punkt is already up-to-date!\n"
     ]
    },
    {
     "data": {
      "text/plain": [
       "True"
      ]
     },
     "execution_count": 5,
     "metadata": {},
     "output_type": "execute_result"
    }
   ],
   "source": [
    "# Applying our clean_text function on contents\n",
    "import nltk\n",
    "nltk.download('punkt')"
   ]
  },
  {
   "cell_type": "code",
   "execution_count": 6,
   "id": "d8885a8e",
   "metadata": {},
   "outputs": [
    {
     "data": {
      "text/html": [
       "<div>\n",
       "<style scoped>\n",
       "    .dataframe tbody tr th:only-of-type {\n",
       "        vertical-align: middle;\n",
       "    }\n",
       "\n",
       "    .dataframe tbody tr th {\n",
       "        vertical-align: top;\n",
       "    }\n",
       "\n",
       "    .dataframe thead th {\n",
       "        text-align: right;\n",
       "    }\n",
       "</style>\n",
       "<table border=\"1\" class=\"dataframe\">\n",
       "  <thead>\n",
       "    <tr style=\"text-align: right;\">\n",
       "      <th></th>\n",
       "      <th>Features</th>\n",
       "      <th>Boolean</th>\n",
       "    </tr>\n",
       "  </thead>\n",
       "  <tbody>\n",
       "    <tr>\n",
       "      <th>10588</th>\n",
       "      <td>base64 ' . none . 'text/html ' . 'quoted-print...</td>\n",
       "      <td>0</td>\n",
       "    </tr>\n",
       "    <tr>\n",
       "      <th>18397</th>\n",
       "      <td>err:509</td>\n",
       "      <td>0</td>\n",
       "    </tr>\n",
       "    <tr>\n",
       "      <th>1133</th>\n",
       "      <td>open in new tab &lt; http : //emaila.goglogo.com/...</td>\n",
       "      <td>1</td>\n",
       "    </tr>\n",
       "    <tr>\n",
       "      <th>10789</th>\n",
       "      <td>this is a system generated mail . please do no...</td>\n",
       "      <td>0</td>\n",
       "    </tr>\n",
       "    <tr>\n",
       "      <th>17585</th>\n",
       "      <td>â â â â daily newsletter â â monday . 16th may...</td>\n",
       "      <td>0</td>\n",
       "    </tr>\n",
       "  </tbody>\n",
       "</table>\n",
       "</div>"
      ],
      "text/plain": [
       "                                                Features Boolean\n",
       "10588  base64 ' . none . 'text/html ' . 'quoted-print...       0\n",
       "18397                                            err:509       0\n",
       "1133   open in new tab < http : //emaila.goglogo.com/...       1\n",
       "10789  this is a system generated mail . please do no...       0\n",
       "17585  â â â â daily newsletter â â monday . 16th may...       0"
      ]
     },
     "execution_count": 6,
     "metadata": {},
     "output_type": "execute_result"
    }
   ],
   "source": [
    "df['Features'] = df['Features'].apply(lambda x: str(x))\n",
    "df['Boolean'] = df['Boolean'].apply(lambda x: str(x))\n",
    "df['Features'] = df['Features'].apply(clean_text)\n",
    "df.head()"
   ]
  },
  {
   "cell_type": "code",
   "execution_count": 7,
   "id": "e7ccf625",
   "metadata": {},
   "outputs": [],
   "source": [
    "df['Features'] = df['Features'].apply(lambda x: str(x))\n",
    "df['Boolean'] = df['Boolean'].apply(lambda x: str(x))"
   ]
  },
  {
   "cell_type": "code",
   "execution_count": 8,
   "id": "e865eeda",
   "metadata": {},
   "outputs": [
    {
     "data": {
      "text/plain": [
       "(16259, 5420)"
      ]
     },
     "execution_count": 8,
     "metadata": {},
     "output_type": "execute_result"
    }
   ],
   "source": [
    "df = df[['Features', 'Boolean']]\n",
    "SEED = 2020\n",
    "df_train = df.sample(frac=0.75, random_state=SEED)\n",
    "df_test = df.drop(df_train.index)\n",
    "len(df_train), len(df_test)"
   ]
  },
  {
   "cell_type": "code",
   "execution_count": 9,
   "id": "542498cd",
   "metadata": {},
   "outputs": [],
   "source": [
    "import ktrain\n",
    "from ktrain import text\n",
    "\n",
    "# selecting transformer to use\n",
    "MODEL_NAME = 'bert-base-uncased'\n",
    "\n",
    "# Common parameters\n",
    "MAXLEN  = 128\n",
    "batch_size = 32\n",
    "learning_rate = 5e-5\n",
    "epochs = 10"
   ]
  },
  {
   "cell_type": "code",
   "execution_count": 10,
   "id": "d440092f",
   "metadata": {},
   "outputs": [
    {
     "name": "stdout",
     "output_type": "stream",
     "text": [
      "preprocessing train...\n",
      "language: en\n",
      "train sequence lengths:\n",
      "\tmean : 295\n",
      "\t95percentile : 1279\n",
      "\t99percentile : 3052\n"
     ]
    },
    {
     "data": {
      "text/html": [
       "\n",
       "<style>\n",
       "    /* Turns off some styling */\n",
       "    progress {\n",
       "        /* gets rid of default border in Firefox and Opera. */\n",
       "        border: none;\n",
       "        /* Needs to be in here for Safari polyfill so background images work as expected. */\n",
       "        background-size: auto;\n",
       "    }\n",
       "    .progress-bar-interrupted, .progress-bar-interrupted::-webkit-progress-bar {\n",
       "        background: #F44336;\n",
       "    }\n",
       "</style>\n"
      ],
      "text/plain": [
       "<IPython.core.display.HTML object>"
      ]
     },
     "metadata": {},
     "output_type": "display_data"
    },
    {
     "data": {
      "text/html": [],
      "text/plain": [
       "<IPython.core.display.HTML object>"
      ]
     },
     "metadata": {},
     "output_type": "display_data"
    },
    {
     "name": "stdout",
     "output_type": "stream",
     "text": [
      "Is Multi-Label? False\n",
      "preprocessing test...\n",
      "language: en\n",
      "test sequence lengths:\n",
      "\tmean : 303\n",
      "\t95percentile : 1367\n",
      "\t99percentile : 3107\n"
     ]
    },
    {
     "data": {
      "text/html": [
       "\n",
       "<style>\n",
       "    /* Turns off some styling */\n",
       "    progress {\n",
       "        /* gets rid of default border in Firefox and Opera. */\n",
       "        border: none;\n",
       "        /* Needs to be in here for Safari polyfill so background images work as expected. */\n",
       "        background-size: auto;\n",
       "    }\n",
       "    .progress-bar-interrupted, .progress-bar-interrupted::-webkit-progress-bar {\n",
       "        background: #F44336;\n",
       "    }\n",
       "</style>\n"
      ],
      "text/plain": [
       "<IPython.core.display.HTML object>"
      ]
     },
     "metadata": {},
     "output_type": "display_data"
    },
    {
     "data": {
      "text/html": [],
      "text/plain": [
       "<IPython.core.display.HTML object>"
      ]
     },
     "metadata": {},
     "output_type": "display_data"
    },
    {
     "name": "stdout",
     "output_type": "stream",
     "text": [
      "Epoch 1/10\n",
      "509/509 [==============================] - 2760s 5s/step - loss: 0.0956 - accuracy: 0.9670 - val_loss: 0.0607 - val_accuracy: 0.9777\n",
      "Epoch 2/10\n",
      "509/509 [==============================] - 2538s 5s/step - loss: 0.0447 - accuracy: 0.9849 - val_loss: 0.0494 - val_accuracy: 0.9836\n",
      "Epoch 3/10\n",
      "509/509 [==============================] - 2525s 5s/step - loss: 0.0337 - accuracy: 0.9878 - val_loss: 0.0480 - val_accuracy: 0.9836\n",
      "Epoch 4/10\n",
      "509/509 [==============================] - 2516s 5s/step - loss: 0.0348 - accuracy: 0.9877 - val_loss: 0.0468 - val_accuracy: 0.9847\n",
      "Epoch 5/10\n",
      "509/509 [==============================] - 2508s 5s/step - loss: 0.0336 - accuracy: 0.9884 - val_loss: 0.0523 - val_accuracy: 0.9832\n",
      "Epoch 6/10\n",
      "509/509 [==============================] - 2502s 5s/step - loss: 0.0270 - accuracy: 0.9905 - val_loss: 0.0498 - val_accuracy: 0.9839\n",
      "Epoch 7/10\n",
      "509/509 [==============================] - 2503s 5s/step - loss: 0.0281 - accuracy: 0.9899 - val_loss: 0.0914 - val_accuracy: 0.9745\n",
      "Epoch 8/10\n",
      "509/509 [==============================] - 2499s 5s/step - loss: 0.0277 - accuracy: 0.9900 - val_loss: 0.0552 - val_accuracy: 0.9839\n",
      "Epoch 9/10\n",
      "509/509 [==============================] - 2500s 5s/step - loss: 0.0288 - accuracy: 0.9898 - val_loss: 0.0534 - val_accuracy: 0.9832\n",
      "Epoch 10/10\n",
      "509/509 [==============================] - 2504s 5s/step - loss: 0.0253 - accuracy: 0.9903 - val_loss: 0.0609 - val_accuracy: 0.9856\n"
     ]
    }
   ],
   "source": [
    "t = text.Transformer(MODEL_NAME, maxlen = MAXLEN)\n",
    "trn = t.preprocess_train(df_train.Features.values, df_train.Boolean.values)\n",
    "val = t.preprocess_test(df_test.Features.values, df_test.Boolean.values)\n",
    "model = t.get_classifier()\n",
    "learner = ktrain.get_learner(model, train_data=trn, val_data=val, batch_size=batch_size)\n",
    "history = learner.fit(learning_rate, epochs)"
   ]
  },
  {
   "cell_type": "code",
   "execution_count": 11,
   "id": "c56a4114",
   "metadata": {},
   "outputs": [],
   "source": [
    "train_loss = history.history['loss']\n",
    "train_acc = history.history['accuracy']\n",
    "val_loss = history.history['val_loss']\n",
    "val_acc = history.history['val_accuracy']\n",
    "xc=range(len(train_loss))"
   ]
  },
  {
   "cell_type": "code",
   "execution_count": 12,
   "id": "be5a4393",
   "metadata": {},
   "outputs": [
    {
     "data": {
      "text/plain": [
       "<matplotlib.legend.Legend at 0x7f02159e47c0>"
      ]
     },
     "execution_count": 12,
     "metadata": {},
     "output_type": "execute_result"
    },
    {
     "data": {
      "image/png": "[encoded data removed]",
      "text/plain": [
       "<Figure size 432x288 with 1 Axes>"
      ]
     },
     "metadata": {
      "needs_background": "light"
     },
     "output_type": "display_data"
    }
   ],
   "source": [
    "import matplotlib.pyplot as plt\n",
    "%matplotlib inline\n",
    "plt.plot(xc, train_acc)\n",
    "plt.plot(xc, val_acc)\n",
    "plt.xlabel(\"Epoch\")\n",
    "plt.ylabel(\"Acc\")\n",
    "plt.legend(['train','val'])"
   ]
  },
  {
   "cell_type": "code",
   "execution_count": 13,
   "id": "9ec217c4",
   "metadata": {},
   "outputs": [
    {
     "data": {
      "text/plain": [
       "<matplotlib.legend.Legend at 0x7f02159bb0d0>"
      ]
     },
     "execution_count": 13,
     "metadata": {},
     "output_type": "execute_result"
    },
    {
     "data": {
      "image/png": "[encoded data removed]",
      "text/plain": [
       "<Figure size 432x288 with 1 Axes>"
      ]
     },
     "metadata": {
      "needs_background": "light"
     },
     "output_type": "display_data"
    }
   ],
   "source": [
    "import matplotlib.pyplot as plt\n",
    "%matplotlib inline\n",
    "plt.plot(xc, train_loss)\n",
    "plt.plot(xc, val_loss)\n",
    "plt.xlabel(\"Epoch\")\n",
    "plt.ylabel(\"Loss\")\n",
    "plt.legend(['train','val'])"
   ]
  },
  {
   "cell_type": "code",
   "execution_count": 14,
   "id": "6c036634",
   "metadata": {},
   "outputs": [
    {
     "name": "stdout",
     "output_type": "stream",
     "text": [
      "Model: \"tf_bert_for_sequence_classification\"\n",
      "_________________________________________________________________\n",
      " Layer (type)                Output Shape              Param #   \n",
      "=================================================================\n",
      " bert (TFBertMainLayer)      multiple                  109482240 \n",
      "                                                                 \n",
      " dropout_37 (Dropout)        multiple                  0         \n",
      "                                                                 \n",
      " classifier (Dense)          multiple                  1538      \n",
      "                                                                 \n",
      "=================================================================\n",
      "Total params: 109,483,778\n",
      "Trainable params: 109,483,778\n",
      "Non-trainable params: 0\n",
      "_________________________________________________________________\n"
     ]
    }
   ],
   "source": [
    "model.summary()"
   ]
  },
  {
   "cell_type": "code",
   "execution_count": 15,
   "id": "6a92465b",
   "metadata": {},
   "outputs": [
    {
     "name": "stdout",
     "output_type": "stream",
     "text": [
      "              precision    recall  f1-score   support\n",
      "\n",
      "           0       0.98      1.00      0.99      3069\n",
      "           1       1.00      0.97      0.98      2351\n",
      "\n",
      "    accuracy                           0.99      5420\n",
      "   macro avg       0.99      0.98      0.99      5420\n",
      "weighted avg       0.99      0.99      0.99      5420\n",
      "\n"
     ]
    },
    {
     "data": {
      "text/plain": [
       "array([[3061,    8],\n",
       "       [  70, 2281]])"
      ]
     },
     "execution_count": 15,
     "metadata": {},
     "output_type": "execute_result"
    }
   ],
   "source": [
    "learner.validate(val_data=val, class_names=t.get_classes())"
   ]
  },
  {
   "cell_type": "code",
   "execution_count": 16,
   "id": "e4ae50dd",
   "metadata": {},
   "outputs": [],
   "source": [
    "classifier = ktrain.get_predictor(learner.model, t)"
   ]
  },
  {
   "cell_type": "code",
   "execution_count": 17,
   "id": "7c6ada7a",
   "metadata": {},
   "outputs": [],
   "source": [
    "classifier.save('model/MODEL2')"
   ]
  },
  {
   "cell_type": "code",
   "execution_count": null,
   "id": "e3357ff2",
   "metadata": {},
   "outputs": [],
   "source": []
  }
 ],
 "metadata": {
  "kernelspec": {
   "display_name": "Python 3 (ipykernel)",
   "language": "python",
   "name": "python3"
  },
  "language_info": {
   "codemirror_mode": {
    "name": "ipython",
    "version": 3
   },
   "file_extension": ".py",
   "mimetype": "text/x-python",
   "name": "python",
   "nbconvert_exporter": "python",
   "pygments_lexer": "ipython3",
   "version": "3.8.10"
  }
 },
 "nbformat": 4,
 "nbformat_minor": 5
}
